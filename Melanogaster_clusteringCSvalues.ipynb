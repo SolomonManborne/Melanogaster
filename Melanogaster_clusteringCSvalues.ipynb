{
 "cells": [
  {
   "cell_type": "code",
   "execution_count": 1,
   "id": "d67b8ab8-1296-4fe3-82b0-1854fd2b0d5e",
   "metadata": {},
   "outputs": [
    {
     "data": {
      "text/plain": [
       "0    2.414262\n",
       "1    2.422278\n",
       "2    2.344316\n",
       "3    2.401194\n",
       "4    2.446870\n",
       "Name: CS, dtype: float64"
      ]
     },
     "execution_count": 1,
     "metadata": {},
     "output_type": "execute_result"
    }
   ],
   "source": [
    "import os\n",
    "import numpy as np \n",
    "import pandas as pd\n",
    "\n",
    "raw_data = pd.read_csv('C:/Users/RushL/Desktop/DATA_Melanogaster/Yesiloz_CS_Suleyman_Yeni.csv', encoding='latin-1', sep=',')\n",
    "raw_data_CS = raw_data.CS\n",
    "raw_data_CS.head()\n",
    "\n"
   ]
  },
  {
   "cell_type": "code",
   "execution_count": null,
   "id": "3d8c3446-cc47-4e6a-ac5b-599ab01ee636",
   "metadata": {},
   "outputs": [],
   "source": []
  }
 ],
 "metadata": {
  "kernelspec": {
   "display_name": "Python 3",
   "language": "python",
   "name": "python3"
  },
  "language_info": {
   "codemirror_mode": {
    "name": "ipython",
    "version": 3
   },
   "file_extension": ".py",
   "mimetype": "text/x-python",
   "name": "python",
   "nbconvert_exporter": "python",
   "pygments_lexer": "ipython3",
   "version": "3.8.11"
  }
 },
 "nbformat": 4,
 "nbformat_minor": 5
}
