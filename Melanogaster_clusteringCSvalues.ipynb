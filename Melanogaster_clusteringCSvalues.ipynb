{
 "cells": [
  {
   "cell_type": "code",
   "execution_count": 16,
   "id": "d67b8ab8-1296-4fe3-82b0-1854fd2b0d5e",
   "metadata": {},
   "outputs": [
    {
     "data": {
      "text/plain": [
       "0    2.414262\n",
       "1    2.422278\n",
       "2    2.344316\n",
       "3    2.401194\n",
       "4    2.446870\n",
       "Name: CS, dtype: float64"
      ]
     },
     "execution_count": 16,
     "metadata": {},
     "output_type": "execute_result"
    }
   ],
   "source": [
    "# İhtiyacımız olan kütüphaneleri yüklüyoruz.\n",
    "from sklearn.cluster import KMeans\n",
    "import numpy as np \n",
    "import pandas as pd\n",
    "\n",
    "# Datamızı pandas ile yüklüyoruz.\n",
    "raw_data = pd.read_csv('C:/Users/RushL/Desktop/DATA_Melanogaster/Yesiloz_CS_Suleyman_Yeni.csv', encoding='latin-1', sep=',')\n",
    "raw_data_CS = raw_data.CS\n",
    "raw_data_CS.head()\n"
   ]
  },
  {
   "cell_type": "code",
   "execution_count": 22,
   "id": "3d8c3446-cc47-4e6a-ac5b-599ab01ee636",
   "metadata": {},
   "outputs": [
    {
     "data": {
      "text/plain": [
       "Id                    object\n",
       "Line                 float64\n",
       "Year                   int64\n",
       "Month                 object\n",
       "Season                object\n",
       "sex                   object\n",
       "ind                    int64\n",
       "meanTemp             float64\n",
       "maxTemp              float64\n",
       "minTemp              float64\n",
       "meanHumidity         float64\n",
       "maxHumidity            int64\n",
       "minH                   int64\n",
       "meanPrecipitation    float64\n",
       "maxPrecipitation     float64\n",
       "CS                   float64\n",
       "LogCS                float64\n",
       "PC1                  float64\n",
       "PC2                  float64\n",
       "PC3                  float64\n",
       "PC4                  float64\n",
       "PC5                  float64\n",
       "PC6                  float64\n",
       "PC7                  float64\n",
       "PC8                  float64\n",
       "PC9                  float64\n",
       "PC10                 float64\n",
       "PC11                 float64\n",
       "PC12                 float64\n",
       "PC13                 float64\n",
       "PC14                 float64\n",
       "PC15                 float64\n",
       "PC16                 float64\n",
       "PC17                 float64\n",
       "PC18                 float64\n",
       "PC19                 float64\n",
       "PC20                 float64\n",
       "PC21                 float64\n",
       "PC22                 float64\n",
       "CS1                   object\n",
       "dtype: object"
      ]
     },
     "execution_count": 22,
     "metadata": {},
     "output_type": "execute_result"
    }
   ],
   "source": [
    "# k-means kümeleme algoritması ile CS değerlerini 4 farklı kategoriye koyuyoruz. \n",
    "\n",
    "kmeans = KMeans(n_clusters=4, random_state=540).fit(raw_data_CS.values.reshape(-1,1))\n",
    "kmeans.predict(raw_data_CS.values.reshape(-1,1))\n",
    "\n",
    "#kmeans.cluster_centers_\n",
    "kmeans.labels_\n",
    "CS1 = kmeans.labels_.reshape(kmeans.labels_.shape[0],1)\n",
    "raw_data['CS1'] = CS1.tolist()\n",
    "raw_data.head()\n",
    "\n",
    "#raw_data['CS1'] = pd.Categorical(raw_data.CS1)\n",
    "#raw_data['CS1'] = raw_data.CS1.astype('category')\n",
    "raw_data.dtypes"
   ]
  },
  {
   "cell_type": "code",
   "execution_count": null,
   "id": "73470725-edd9-4539-a0b5-ce5d7e338c79",
   "metadata": {},
   "outputs": [],
   "source": []
  }
 ],
 "metadata": {
  "kernelspec": {
   "display_name": "Python 3",
   "language": "python",
   "name": "python3"
  },
  "language_info": {
   "codemirror_mode": {
    "name": "ipython",
    "version": 3
   },
   "file_extension": ".py",
   "mimetype": "text/x-python",
   "name": "python",
   "nbconvert_exporter": "python",
   "pygments_lexer": "ipython3",
   "version": "3.8.11"
  }
 },
 "nbformat": 4,
 "nbformat_minor": 5
}
